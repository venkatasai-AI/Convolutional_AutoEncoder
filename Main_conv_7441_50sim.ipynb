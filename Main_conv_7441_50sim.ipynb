{
  "nbformat": 4,
  "nbformat_minor": 0,
  "metadata": {
    "interpreter": {
      "hash": "6e6fa48d7b03389b3cab664954795ce74ee1167e8b481844b39fa52e148190d3"
    },
    "kernelspec": {
      "display_name": "Python 3",
      "language": "python",
      "name": "python3"
    },
    "language_info": {
      "codemirror_mode": {
        "name": "ipython",
        "version": 3
      },
      "file_extension": ".py",
      "mimetype": "text/x-python",
      "name": "python",
      "nbconvert_exporter": "python",
      "pygments_lexer": "ipython3",
      "version": "3.8.5"
    },
    "colab": {
      "name": "Main_conv_7441_50sim.ipynb",
      "private_outputs": true,
      "provenance": [],
      "collapsed_sections": [],
      "include_colab_link": true
    },
    "accelerator": "GPU"
  },
  "cells": [
    {
      "cell_type": "markdown",
      "metadata": {
        "id": "view-in-github",
        "colab_type": "text"
      },
      "source": [
        "<a href=\"https://colab.research.google.com/github/venkatasai-AI/Convolutional_AutoEncoder/blob/master/Main_conv_7441_50sim.ipynb\" target=\"_parent\"><img src=\"https://colab.research.google.com/assets/colab-badge.svg\" alt=\"Open In Colab\"/></a>"
      ]
    },
    {
      "cell_type": "code",
      "metadata": {
        "id": "CRkDItcaCHcS"
      },
      "source": [
        "import os\n",
        "import matplotlib.pyplot as plt\n",
        "import pandas as pd\n",
        "import numpy as np\n",
        "import xarray as xr\n",
        "from sklearn.model_selection import train_test_split"
      ],
      "execution_count": null,
      "outputs": []
    },
    {
      "cell_type": "code",
      "metadata": {
        "id": "hUkmsgO2Knpa"
      },
      "source": [
        "from google.colab import drive\n",
        "drive.mount('/content/drive')"
      ],
      "execution_count": null,
      "outputs": []
    },
    {
      "cell_type": "code",
      "metadata": {
        "id": "BjmV4CvBKn10"
      },
      "source": [
        "%tensorflow_version 2.x\n",
        "import tensorflow as tf\n",
        "device_name = tf.test.gpu_device_name()\n",
        "if device_name != '/device:GPU:0':\n",
        "  raise SystemError('GPU device not found')\n",
        "print('Found GPU at: {}'.format(device_name))"
      ],
      "execution_count": null,
      "outputs": []
    },
    {
      "cell_type": "markdown",
      "metadata": {
        "id": "W4K-fU5FKmlP"
      },
      "source": [
        "# Import Simulation dataset"
      ]
    },
    {
      "cell_type": "code",
      "metadata": {
        "id": "39LwvrYYKmlP"
      },
      "source": [
        "matrix_2d  = xr.open_dataarray(\"/content/drive/MyDrive/samples_200_Dummy.nc\")  ## 4d array in the form of (simulation, timestates , DOF,nodes)\n",
        "matrix_1d = matrix_2d.stack(z=(\"nodes\",\"DoFs\"))  ## 3D array in the form of (simulation , timestates, displacement)\n",
        "\n",
        "#matrix1  = xr.open_dataarray(\"/content/drive/MyDrive/samples_200_Dummy.nc\") \n",
        "sims_a,times, DoFs, node_ID = matrix_2d.indexes.values()\n",
        "\n",
        "matrix_conv1d = (matrix_1d) / np.max(matrix_1d) ## normalise the dataset by dividing max value\n",
        "#matrix_conv2d = (matrix_2d) / np.max(matrix_2d) ## normalise the dataset by dividing max value\n",
        "\n",
        "### INPUT FEM PARAETERS\n",
        "#inputParameter = pd.read_csv(\"/content/drive/MyDrive/Inputs_data_200.csv\") ## input fem parameters\n",
        "#input_fem =  inputParameter.iloc[:,:]\n",
        "\n",
        "print(\"Simulation data: \\n\\n\",matrix_2d)\n"
      ],
      "execution_count": null,
      "outputs": []
    },
    {
      "cell_type": "code",
      "metadata": {
        "id": "_wbf1RUZKmlQ"
      },
      "source": [
        "import yaml\n",
        "\n",
        "with open(r'/content/drive/MyDrive/data.yaml') as file:\n",
        "    # The FullLoader parameter handles the conversion from YAML\n",
        "    # scalar values to Python the dictionary format\n",
        "    inputParameter =yaml.load(file)\n",
        "    initial = inputParameter['initialise']\n",
        "    Autoencoder_paramters = inputParameter['Autoencoder_paramters']\n",
        "    #FFNN_parameter = inputParameter['FFNN_PARAMETERS']\n",
        "\n",
        "    print(initial,Autoencoder_paramters)"
      ],
      "execution_count": null,
      "outputs": []
    },
    {
      "cell_type": "code",
      "metadata": {
        "id": "_jEk_h8LKmlS"
      },
      "source": [
        "if Autoencoder_paramters['architecture'] == 1 : \n",
        "        conv1,conv2,conv3,conv4,conv5 = Autoencoder_paramters['convolution_layer1'],Autoencoder_paramters['convolution_layer2'],Autoencoder_paramters['convolution_layer3'],Autoencoder_paramters['convolution_layer4'],Autoencoder_paramters                                                                                ['convolution_layer5']\n",
        "        print(\"Number of filters in each convolution layer: \\n\\n\",conv1,conv2,conv3,conv4)\n",
        "\n",
        "\n",
        "elif Autoencoder_paramters['architecture'] ==2 or 4:     \n",
        "        conv1,conv2,conv3,conv4,conv5 = Autoencoder_paramters['convolution_layer1'],Autoencoder_paramters['convolution_layer2'],Autoencoder_paramters['convolution_layer3'],Autoencoder_paramters['convolution_layer4'],Autoencoder_paramters                                                                                ['convolution_layer5']\n",
        "        print(\"Number of filters in each convolution layer: \\n\\n\",conv1,conv2,conv3,conv4)\n",
        "\n",
        "elif Autoencoder_paramters['architecture']==3 or 5:       \n",
        "        conv1,conv2,conv3,conv4,conv5 = Autoencoder_paramters['convolution_layer1'],Autoencoder_paramters['convolution_layer2'],Autoencoder_paramters['convolution_layer3'],Autoencoder_paramters['convolution_layer4'],Autoencoder_paramters                                                                                ['convolution_layer5']\n",
        "        print(\"Number of filters in each convolution layer: \\n\\n\",conv1,conv2,conv3,conv4)\n"
      ],
      "execution_count": null,
      "outputs": []
    },
    {
      "cell_type": "code",
      "metadata": {
        "id": "xZisc2E1KmlU"
      },
      "source": [
        "import os\n",
        "import matplotlib.pyplot as plt\n",
        "import pandas as pd\n",
        "import numpy as np\n",
        "import xarray as xr\n",
        "from sklearn.model_selection import train_test_split\n",
        "\n",
        "## SPLIT THE AUTOENCODER DATASET FOR TRAINIG AND TESTING\n",
        "\n",
        "class Traintestsplit_AE:\n",
        "    \n",
        "    \n",
        "    \"\"\"\n",
        "    X - Input FEM parameters\n",
        "    Y1 - convolutional 1d matrix\n",
        "    Y2 - convolutional 2d matrix\n",
        "    model - either convolutional 1d or 2d\n",
        "    Returns: train_test split for selected model\n",
        "\n",
        "    \"\"\"\n",
        "    def __init__(self,inp,conv1d,conv2d,model,simulation,nodes,split_size):\n",
        "        #super(Traintestsplit_AE, self).__init__()\n",
        "        self.inp  = inp\n",
        "        self.conv1d = conv1d\n",
        "        self.conv2d = conv2d\n",
        "        self.model = model\n",
        "        self.simulation = simulation\n",
        "        self.nodes = nodes\n",
        "        self.split_size = split_size\n",
        "        #self.samples = self.simulation*(1-self.split_size)\n",
        "        \n",
        "    def call(self):                \n",
        "        if self.model == 'conv1d':                      # if model is convolutional 1d\n",
        "            Y1 =self.conv1d                      ## DISPLACEMENT MATRIX FOR CONV 1D\n",
        "            \n",
        "                        \n",
        "            X_train, X_test, Y_train, Y_test = train_test_split(self.inp,Y1,random_state=42,\n",
        "                                                                 test_size=self.split_size,shuffle = True)\n",
        "            \n",
        "            X_train = X_train.iloc[:int((self.simulation)*(1-self.split_size)),:]\n",
        "            X_test  = X_test.iloc[:int((self.simulation)*(self.split_size)),:]\n",
        "            Y_train = Y_train[:int((self.simulation)*(1-self.split_size)),:,:self.nodes*3]\n",
        "            Y_test  = Y_test[:int((self.simulation)*(self.split_size)),:,:self.nodes*3]\n",
        "            \n",
        "            return X_train,X_test,Y_train,Y_test\n",
        "\n",
        "\n",
        "        elif self.model =='conv2d':                            # else model is convolutional 2d\n",
        "            Y2 = self.conv2d                                   ## DISPLACEMENT MATRIX FOR CONV 2D  \n",
        "            \n",
        "            X_train, X_test, Y_train, Y_test = train_test_split(self.inp,Y2,random_state=42,\n",
        "                                                                 test_size=0.20,shuffle = True)\n",
        "\n",
        "            X_train = X_train.iloc[:int((self.simulation)*(1-self.split_size)),:]\n",
        "            X_test  = X_test.iloc[:int((self.simulation)*(self.split_size)),:]\n",
        "            Y_train  = Y_train[:int((self.simulation)*(1-self.split_size)),:,:self.nodes*3,:]\n",
        "            Y_test  = Y_test[:int((self.simulation)*(self.split_size)),:,:self.nodes*3,:] \n",
        "\n",
        "            return X_train,X_test,Y_train,Y_test\n"
      ],
      "execution_count": null,
      "outputs": []
    },
    {
      "cell_type": "code",
      "metadata": {
        "id": "znhLyFqFKmlV"
      },
      "source": [
        "X = Traintestsplit_AE(input_fem,matrix_conv1d ,matrix_conv2d,Autoencoder_paramters['model'],\n",
        "             initial['simulation'],initial['nodes'],initial['split_size'])\n",
        "                                                                \n",
        "\n",
        "X_train,X_test,Y_train,Y_test = X.call()\n",
        "X_train.shape,X_test.shape,Y_train.shape,Y_test.shape\n",
        "X_train.index,X_test.index,Y_train.shape,Y_test.shape\n",
        "print(\"X_train: \\n\\n\",X_train.index)\n",
        "print( \"X_test: \\n\\n\",X_test.index)\n"
      ],
      "execution_count": null,
      "outputs": []
    },
    {
      "cell_type": "code",
      "metadata": {
        "id": "QwHUAQewMQcZ"
      },
      "source": [
        "\n",
        "## Plot the distribution of FE parameters from training and testing splits\n",
        "\n",
        "for b in range(0,4):\n",
        "    plt.figure()\n",
        "    plt.title(\"Distribution of Train and Test values of param {}\".format(b+1))\n",
        "    plt.plot(X_train.iloc[:,b],'o', label='train sample')\n",
        "    plt.plot(X_test.iloc[:,b],'og', label='test sample')\n",
        "    plt.xlabel('Simulation number', fontsize = 16)\n",
        "    plt.ylabel('mean distance mm', fontsize = 16)\n",
        "    plt.legend(loc='best')\n",
        "    plt.show()"
      ],
      "execution_count": null,
      "outputs": []
    },
    {
      "cell_type": "markdown",
      "metadata": {
        "id": "Vt1Qs8jgKmlW"
      },
      "source": [
        "## CONVOLUTIONAL AUTOENCODER\n",
        "\n",
        "A typical convolutional Architecture for Dimensionality reduction\n",
        "\n",
        "![Convolutional auto.png](data:image/png;base64,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)"
      ]
    },
    {
      "cell_type": "code",
      "metadata": {
        "id": "rsrBKtlRKmlW"
      },
      "source": [
        "from keras.models import Sequential\n",
        "import tensorflow as tf\n",
        "from tensorflow.keras import layers, losses\n",
        "from tensorflow.keras.models import Model\n",
        "import keras\n",
        "from keras.layers import Dense, Dropout, Flatten,Reshape,UpSampling1D,Conv1DTranspose\n",
        "from keras.layers import Conv1D, MaxPooling1D,AveragePooling1D,BatchNormalization\n",
        "\n",
        "\n",
        "\n",
        "class convAutoencoder_1D(Model):\n",
        "    \n",
        "    \"\"\"\n",
        "     x - displacement matrix (High dimensional data)\n",
        "     conv1,conv2,--  (number of filters in each convolutiona layers)\n",
        "     Returns: latent space data (Low dimensional data)\n",
        "\n",
        "    \"\"\"\n",
        "    \n",
        "    def __init__(self,latent,input_matrix,conv1,conv2,conv3,conv4,conv5,architecture,kernal,activation,paddings):\n",
        "\n",
        "        if architecture == 1:\n",
        "            super(convAutoencoder_1D, self).__init__()                    \n",
        "\n",
        "            self.paddings = paddings\n",
        "            self.activation = activation\n",
        "            \n",
        "            self.encoder = tf.keras.Sequential([\n",
        "                layers.Input(shape=(input_matrix)),\n",
        "                layers.Conv1D(filters = conv1,kernel_size= kernal, activation=self.activation,padding =self.paddings),\n",
        "                layers.Conv1D(filters = conv2,kernel_size= kernal, activation=self.activation,padding = self.paddings),\n",
        "                layers.AveragePooling1D(2),\n",
        "                layers.Conv1D(filters = conv3,kernel_size= kernal, activation=self.activation,padding = self.paddings),\n",
        "                layers.Flatten(),\n",
        "                layers.Dense(latent)])\n",
        "        \n",
        "            unflatten = self.encoder.layers[-2]\n",
        "            print(unflatten.output.shape[1])\n",
        "            reshape = unflatten.output.shape[1]/conv3\n",
        "            \n",
        "            self.decoder = tf.keras.Sequential([\n",
        "                layers.Dense(unflatten.output.shape[1]),\n",
        "                layers.Reshape(target_shape=(int(reshape), conv3)),\n",
        "                layers.Conv1DTranspose(filters=conv2, kernel_size=kernal,padding =self.paddings,\n",
        "                    activation=self.activation),\n",
        "                layers.UpSampling1D(2),\n",
        "                layers.Conv1DTranspose(filters=conv1, kernel_size=kernal,padding = self.paddings,activation=self.activation),\n",
        "                layers.Conv1DTranspose(filters=int(input_matrix[1]), kernel_size=kernal,padding = self.paddings)])  \n",
        "        \n",
        "\n",
        "        elif architecture == 2 or 4:\n",
        "\n",
        "            super(convAutoencoder_1D, self).__init__()                    \n",
        "\n",
        "            self.paddings = paddings\n",
        "            self.activation = activation\n",
        "\n",
        "            self.encoder = tf.keras.Sequential([\n",
        "                layers.Input(shape=(input_matrix)),\n",
        "                layers.Conv1D(filters = conv1,kernel_size= kernal, activation=self.activation,padding =self.paddings),\n",
        "                layers.Conv1D(filters = conv2,kernel_size= kernal, activation=self.activation,padding = self.paddings),\n",
        "                layers.AveragePooling1D(2),\n",
        "                layers.Conv1D(filters = conv3,kernel_size= kernal, activation=self.activation,padding = self.paddings),\n",
        "                layers.AveragePooling1D(2),\n",
        "                layers.Conv1D(filters = conv4,kernel_size= kernal, activation=self.activation,padding = self.paddings),   \n",
        "                layers.Flatten(),\n",
        "                layers.Dense(latent)])\n",
        "        \n",
        "            unflatten = self.encoder.layers[-2]\n",
        "            print(unflatten.output.shape[1])\n",
        "            reshape = unflatten.output.shape[1]/conv4\n",
        "            \n",
        "        \n",
        "            self.decoder = tf.keras.Sequential([\n",
        "                layers.Dense(int(unflatten.output.shape[1])),\n",
        "                layers.Reshape(target_shape=(int(reshape), conv4)),\n",
        "                layers.Conv1DTranspose(filters=conv3, kernel_size=kernal,padding = self.paddings,\n",
        "                    activation=self.activation),\n",
        "                layers.UpSampling1D(2),\n",
        "                layers.Conv1DTranspose(filters=conv2, kernel_size=kernal,padding = self.paddings,activation=self.activation),\n",
        "                layers.UpSampling1D(2),                \n",
        "                layers.Conv1DTranspose(filters=conv1, kernel_size=kernal,padding = self.paddings,activation=self.activation),              \n",
        "                layers.Conv1DTranspose(filters=int(input_matrix[1]), kernel_size=kernal,padding = self.paddings)])\n",
        "            \n",
        "            \n",
        "        elif architecture == 3 or 5:\n",
        "            super(convAutoencoder_1D, self).__init__()\n",
        "\n",
        "            self.paddings = paddings\n",
        "            self.kernal = kernal \n",
        "            self.activation = activation\n",
        "            \n",
        "            self.encoder = tf.keras.Sequential([\n",
        "                layers.Input(shape=(input_matrix)),\n",
        "                layers.Conv1D(filters = conv1,kernel_size= kernal, activation=self.activation,padding = self.paddings),\n",
        "                layers.AveragePooling1D(2),\n",
        "                layers.Conv1D(filters = conv2,kernel_size= kernal, activation=self.activation,padding = self.paddings),\n",
        "                layers.AveragePooling1D(2),\n",
        "                layers.Conv1D(filters = conv3,kernel_size= kernal, activation=self.activation,padding = self.paddings),\n",
        "                layers.AveragePooling1D(2),\n",
        "                layers.Conv1D(filters = conv4,kernel_size= kernal, activation=self.activation,padding = \"same\"),\n",
        "                layers.AveragePooling1D(2),\n",
        "                layers.Conv1D(filters = conv5,kernel_size= kernal, activation=self.activation,padding = \"same\"),                \n",
        "                layers.Flatten(),\n",
        "                layers.Dense(latent)])\n",
        "        \n",
        "            unflatten = self.encoder.layers[-2]\n",
        "            print(unflatten.output.shape[1])\n",
        "            reshape = unflatten.output.shape[1]/conv5\n",
        "            \n",
        "            self.decoder = tf.keras.Sequential([\n",
        "                layers.Dense(unflatten.output.shape[1]),\n",
        "                layers.Reshape(target_shape=(int(reshape), conv5)),\n",
        "                layers.Conv1DTranspose(filters=conv4, kernel_size=kernal,padding = \"same\",\n",
        "                    activation=self.activation),\n",
        "                layers.UpSampling1D(2),\n",
        "                layers.Conv1DTranspose(filters=conv3, kernel_size=kernal,padding =\"same\",activation=self.activation),\n",
        "                layers.UpSampling1D(2),\n",
        "                layers.Conv1DTranspose(filters=conv2, kernel_size=kernal,padding = self.paddings,activation=self.activation),\n",
        "                layers.UpSampling1D(2),\n",
        "                layers.Conv1DTranspose(filters=conv1, kernel_size=kernal,padding = self.paddings,activation=self.activation),\n",
        "                layers.UpSampling1D(2),\n",
        "                layers.Conv1DTranspose(filters=int(input_matrix[1]), kernel_size=kernal,padding = self.paddings)])    \n",
        "\n",
        "\n",
        "\n",
        "\n",
        "            \n",
        "    def call(self, x):\n",
        "        encoded = self.encoder(x)\n",
        "        decoded = self.decoder(encoded)\n",
        "        return decoded\n"
      ],
      "execution_count": null,
      "outputs": []
    },
    {
      "cell_type": "markdown",
      "metadata": {
        "id": "ozAj3Gk3KmlZ"
      },
      "source": [
        "### Compile the architecture and train the Autoencoder model\n",
        "\n",
        "Before the model is ready for training, it needs a few more settings. These are added during the model's *compile* step:\n",
        "\n",
        "* *Loss function* —This measures how accurate the model is during training. we want to minimize this function to \"steer\" the model in the right direction.\n",
        "* *Optimizer* — converge to minimum.\n",
        "* *Metrics* —Used to monitor the training and testing steps. The following network uses *accuracy*."
      ]
    },
    {
      "cell_type": "code",
      "metadata": {
        "id": "HPW97peiKmla"
      },
      "source": [
        "if Autoencoder_paramters['model'] == 'conv1d':\n",
        "    model_CAE = convAutoencoder_1D(Autoencoder_paramters['latent'],input_matrix_1D,conv1,conv2,conv3,conv4,conv5,                                \n",
        "                                    Autoencoder_paramters['architecture'],Autoencoder_paramters['kernal'],Autoencoder_paramters['activation'],Autoencoder_paramters['padding'])                                                                                        \n",
        "\n",
        "                                   \n",
        "elif Autoencoder_paramters['model'] == 'conv2d':\n",
        "    model_CAE = convAutoencoder_2D(Autoencoder_paramters['latent'],input_matrix_2D,conv1,conv2,conv3,conv4,conv5,\n",
        "                                                Autoencoder_paramters['architecture'],Autoencoder_paramters['kernal'],Autoencoder_paramters['activation'])\n",
        "                                    \n",
        "                                   \n",
        "else:\n",
        "    raise ValueError('Unrecognized model')\n",
        "\n",
        "print(model_CAE.encoder.summary())"
      ],
      "execution_count": null,
      "outputs": []
    },
    {
      "cell_type": "markdown",
      "metadata": {
        "id": "IBjdQqxGKmlb"
      },
      "source": [
        "## Train the convolutional Autoencoder"
      ]
    },
    {
      "cell_type": "code",
      "metadata": {
        "id": "UmbpY1xvKmlb"
      },
      "source": [
        "import timeit\n",
        "from keras.models import Sequential\n",
        "import tensorflow as tf\n",
        "from tensorflow.keras import layers, losses\n",
        "import keras\n",
        "from keras.callbacks import ModelCheckpoint\n",
        "from datetime import datetime\n",
        "\n",
        "start_time = timeit.default_timer()\n",
        "\n",
        "# Load the TensorBoard notebook extension.\n",
        "\n",
        "\n",
        "opt = tf.keras.optimizers.Adam(learning_rate=Autoencoder_paramters['lr'])\n",
        "model_CAE.compile(optimizer=opt, loss=losses.MeanSquaredError(),metrics=['accuracy'])\n",
        "\n",
        "\n",
        "\n",
        "#fit the model\n",
        "history = model_CAE.fit(np.array(Y_train),np.array(Y_train),Autoencoder_paramters['batchsize'],epochs =Autoencoder_paramters['epoch'], \n",
        "                                                verbose=0)\n",
        "                                  \n",
        "\n",
        "#model.summary()\n",
        "elapsed = timeit.default_timer() - start_time\n",
        "\n",
        "# Print the time taken to train and the final result on the test set\n",
        "print(\"Time (s): \", elapsed)"
      ],
      "execution_count": null,
      "outputs": []
    },
    {
      "cell_type": "code",
      "metadata": {
        "id": "5M5YAMqXKmlc"
      },
      "source": [
        "print(model_CAE.decoder.summary())"
      ],
      "execution_count": null,
      "outputs": []
    },
    {
      "cell_type": "markdown",
      "metadata": {
        "id": "Jr0EA_PcKmlc"
      },
      "source": [
        "## SAVE THE TRAINED AUTOENCODER MODEL"
      ]
    },
    {
      "cell_type": "code",
      "metadata": {
        "id": "tMyMYWUjKmlc"
      },
      "source": [
        "#!mkdir -p Best_model_1000\n",
        "model_CAE.save('/content/drive/MyDrive/COLLAB_WORKS_7441-1500/LATENT_VARIATION_7441NODES/model1_LT{}_nds{}_batch{}_sim{}_conv1{}_epoch{}'.format(Autoencoder_paramters['latent'],\n",
        "    initial['nodes'],Autoencoder_paramters['batchsize'],initial['simulation'],conv1,Autoencoder_paramters['epoch']))"
      ],
      "execution_count": null,
      "outputs": []
    },
    {
      "cell_type": "markdown",
      "metadata": {
        "id": "ngGnbxwVKmlc"
      },
      "source": [
        "\n",
        "\n",
        "```\n",
        "# This is formatted as code\n",
        "```\n",
        "\n",
        "## Loss Plot - mse"
      ]
    },
    {
      "cell_type": "code",
      "metadata": {
        "id": "MdZUR6OYKmld"
      },
      "source": [
        "losses = history.history['loss']\n",
        "#val_losses = history.history['val_loss']\n",
        "accuracy = history.history['accuracy']\n",
        "#round = 42\n",
        "epochs = (range(Autoencoder_paramters['epoch']))\n",
        "plt.figure()\n",
        "plt.plot(epochs, losses, '-', label='Training loss')\n",
        "#plt.plot(epochs, val_losses, '-', label='val_losses')\n",
        "plt.title('Training loss')\n",
        "plt.xlabel('epochs',fontsize=10)\n",
        "plt.ylabel('Loss',fontsize=10)\n",
        "plt.legend(loc='upper right',fontsize=10)\n",
        "print(losses[-1])\n",
        "#plt.savefig('Training Loss.pdf')"
      ],
      "execution_count": null,
      "outputs": []
    },
    {
      "cell_type": "markdown",
      "metadata": {
        "id": "_-E69_UUgbgu"
      },
      "source": [
        "# Decode back to original matrix using Convolutional Decoder"
      ]
    },
    {
      "cell_type": "code",
      "metadata": {
        "id": "ynmQqq1LgYsB"
      },
      "source": [
        "## predict the test data and then decode \n",
        "latent_test = model_CAE.encoder.predict(Y_test) ## feed test data to autoenocder\n",
        "latent_train = model_CAE.encoder.predict(Y_train) ## from original data to encoded\n",
        "\n",
        "decoded = model_CAE.decoder.predict(latent_train)\n",
        "decoded = decoded * (np.max(matrix_1d).values)"
      ],
      "execution_count": null,
      "outputs": []
    },
    {
      "cell_type": "code",
      "metadata": {
        "id": "TspWfhanEXZ9"
      },
      "source": [
        "## convert matrix 3d to 4d for plots\n",
        "\n",
        "\n",
        "decoded_4d = np.array(decoded).reshape(decoded.shape[0],\n",
        "                              decoded.shape[1],initial['nodes'],3) \n"
      ],
      "execution_count": null,
      "outputs": []
    },
    {
      "cell_type": "code",
      "metadata": {
        "id": "d4DT9OYOEjtg"
      },
      "source": [
        "sims, states, DoFs, nodes = matrix_2d.indexes.values()\n",
        "train_idx = np.array(X_train.index)\n",
        "node_idx = np.array(nodes[0:initial['nodes']])\n",
        "\n",
        "\n",
        "decoded_predict = xr.DataArray(decoded_4d, dims = [\"t_sims\",\"t_states\",\"Nds\",\"DoFs\"],\n",
        "                         coords = {\"t_sims\":train_idx,                              \n",
        "                                   \"Nds\": node_idx,\n",
        "                                   \"DoFs\": DoFs})\n",
        "print(\"Trainindex: \\n\\n\",train_idx)\n"
      ],
      "execution_count": null,
      "outputs": []
    },
    {
      "cell_type": "code",
      "metadata": {
        "id": "oWD7wruLEXeS"
      },
      "source": [
        "plt.figure()\n",
        "\n",
        "Nnodeno = 1001983\n",
        "sim_index = train_idx[-1]\n",
        "\n",
        "plt.plot(states, matrix_2d.sel(sims = sim_index , nodes = Nnodeno, DoFs = 'x_disp'),'b',label='x-disp-true')\n",
        "plt.plot(states, decoded_predict.sel(t_sims = train_idx[-1], Nds = Nnodeno, DoFs = 'x_disp'),'--b',label='x-disp-decoded')\n",
        "\n",
        "plt.plot(states, matrix_2d.sel(sims = sim_index, nodes = Nnodeno, DoFs = 'y_disp'),'r',label='y-disp-true')\n",
        "plt.plot(states, decoded_predict.sel(t_sims = train_idx[-1], Nds = Nnodeno, DoFs = 'y_disp'),'--r',label='y-disp-decoded')\n",
        "\n",
        "plt.plot(states, matrix_2d.sel(sims = sim_index, nodes = Nnodeno, DoFs = 'z_disp'),'g',label='z-disp-true')\n",
        "plt.plot(states, decoded_predict.sel(t_sims = train_idx[-1], Nds = Nnodeno, DoFs = 'z_disp'),'--g',label='z-disp-decoded')\n",
        "\n",
        "plt.xlabel('Time ms', fontsize = 16)\n",
        "plt.ylabel('Displacement mm', fontsize = 16)\n",
        "plt.legend(loc=\"lower center\", bbox_to_anchor=(0.5, -0.5), ncol=3)\n"
      ],
      "execution_count": null,
      "outputs": []
    },
    {
      "cell_type": "markdown",
      "metadata": {
        "id": "6lYydNP5Kmle"
      },
      "source": [
        "## Mean distance error"
      ]
    },
    {
      "cell_type": "code",
      "metadata": {
        "id": "eLRBhttEKmle"
      },
      "source": [
        "mean_dist_nds_test = []\n",
        "for j in range(0,X_train.shape[0]):\n",
        "    dist_nds = []\n",
        "    pred = np.array(decoded_predict[j,:,:]).reshape(len(times),3,initial['nodes'])\n",
        "    true = np.array(Y_train[j,:,:]).reshape(len(times),3,initial['nodes'])\n",
        "    for k in range(initial['nodes']):\n",
        "        squared_dist = np.sum((true[:,:,k]-pred[:,:,k])**2, axis=1)\n",
        "        dist = np.sqrt(squared_dist)\n",
        "        dist_nds.append(dist)\n",
        "\n",
        "    mean_dist_nds = np.array(dist_nds).mean(axis = 0)\n",
        "    mean_dist_nds_test.append(mean_dist_nds)\n"
      ],
      "execution_count": null,
      "outputs": []
    },
    {
      "cell_type": "code",
      "metadata": {
        "id": "mUERjdADKmlf"
      },
      "source": [
        "## Error Across every time step\n",
        "\n",
        "mean_dist_mean = np.array(mean_dist_nds_test).mean(axis=0)\n",
        "mean_dist_std = np.array(mean_dist_nds_test).std(axis=0)\n",
        "\n",
        "plt.figure()\n",
        "plt.title(\"Mean and standard deviation\")\n",
        "plt.xlabel('Time ms', fontsize = 16)\n",
        "plt.ylabel('mean distance mm', fontsize = 16)\n",
        "plt.plot(times,mean_dist_mean,'o-', color = \"b\", label= \"mean of mean distance\")\n",
        "plt.fill_between(times, mean_dist_mean-mean_dist_std, mean_dist_mean+mean_dist_std)\n",
        "plt.legend(loc='upper left')\n",
        "!mkdir -p euclidean_error\n"
      ],
      "execution_count": null,
      "outputs": []
    },
    {
      "cell_type": "code",
      "metadata": {
        "id": "hJzA_S04Kmlg"
      },
      "source": [
        "## Mean absolute error\n",
        "\n",
        "from sklearn.metrics import mean_absolute_error\n",
        "mae = []\n",
        "for j in range(0,X_train.shape[0]):\n",
        "    MAE =  mean_absolute_error(decoded[j,:,:], (np.max(matrix_1d).values)*Y_train[j,:,:])\n",
        "    mae.append(MAE)\n",
        "print(mae)\n",
        "\n"
      ],
      "execution_count": null,
      "outputs": []
    },
    {
      "cell_type": "code",
      "metadata": {
        "id": "X4cVmT7QkqWr"
      },
      "source": [
        ""
      ],
      "execution_count": null,
      "outputs": []
    },
    {
      "cell_type": "code",
      "metadata": {
        "id": "Bx-MAtxok8yi"
      },
      "source": [
        ""
      ],
      "execution_count": null,
      "outputs": []
    }
  ]
}